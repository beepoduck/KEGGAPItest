{
 "cells": [
  {
   "cell_type": "code",
   "execution_count": 23,
   "metadata": {},
   "outputs": [],
   "source": [
    "import os\n",
    "import dotenv\n",
    "import re\n",
    "import requests\n",
    "import logging\n",
    "from openai import OpenAI\n",
    "from langchain.chat_models import ChatOpenAI\n",
    "\n",
    "logging.basicConfig(level=logging.INFO)"
   ]
  },
  {
   "cell_type": "code",
   "execution_count": 24,
   "metadata": {},
   "outputs": [],
   "source": [
    "dotenv.load_dotenv('/Users/asze01/Code/Hassoun-Lab/GPT.env')\n",
    "\n",
    "# Retrieve the API key once and use it everywhere\n",
    "api_key = os.getenv(\"OPENAI_API_KEY\")\n",
    "if not api_key:\n",
    "    raise ValueError(\"API key not found. Please check your .env file.\")\n",
    "\n",
    "# Check if the API key is there\n",
    "# print(f\"API Key: {api_key}\")\n",
    "\n",
    "# Initialize OpenAI client and chat model with the same API key\n",
    "client = OpenAI(api_key=api_key)\n",
    "chat = ChatOpenAI(model=\"gpt-4o\", temperature=0.2, openai_api_key=api_key)"
   ]
  },
  {
   "cell_type": "code",
   "execution_count": 25,
   "metadata": {},
   "outputs": [],
   "source": [
    "def query_kegg_for_info(keywords):\n",
    "    try:\n",
    "        chat_completion = client.chat.completions.create(\n",
    "            model=\"gpt-4o\",\n",
    "            messages=[\n",
    "                {\"role\": \"system\", \"content\": \"You are a KEGG REST API generator. Convert these keywords from a question into one single correct KEGG API URL following KEGG REST API documentation and output it.\"},\n",
    "                {\"role\": \"user\", \"content\": f\"Keywords: {keywords}\"}\n",
    "            ],\n",
    "            temperature=0.2\n",
    "        )\n",
    "        response_text = chat_completion.choices[0].message.content\n",
    "        urls = re.findall(r'https?://[^\\s]+', response_text)\n",
    "\n",
    "        if urls:\n",
    "            # Selecting the last URL\n",
    "            last_url = urls[-1]\n",
    "            logging.info(f\"API Query URL: {last_url}\")\n",
    "            response = requests.get(last_url)\n",
    "            if response.status_code == 200:\n",
    "                response_content = response.text\n",
    "                if last_url.startswith(\"http://rest.kegg.jp/get/\"):\n",
    "                    # Exclude text below the word \"GENES\"\n",
    "                    genes_index = response_content.find(\"GENES\")\n",
    "                    if genes_index != -1:\n",
    "                        response_content = response_content[:genes_index]\n",
    "                return response_content\n",
    "            else:\n",
    "                logging.error(f\"Failed to retrieve data: Status code {response.status_code}\")\n",
    "                return None\n",
    "        else:\n",
    "            logging.error(\"No valid URL found.\")\n",
    "            return None\n",
    "    except Exception as e:\n",
    "        logging.error(f\"Error querying KEGG: {e}\")\n",
    "        return None\n",
    "\n",
    "def extract_keywords(question):\n",
    "    try:\n",
    "        chat_completion = client.chat.completions.create(\n",
    "            model=\"gpt-4o-mini\",\n",
    "            messages=[\n",
    "                {\"role\": \"system\", \"content\": \"You are a biochemistry assistant. Identify the main keywords from this question.\"},\n",
    "                {\"role\": \"user\", \"content\": question}\n",
    "            ]\n",
    "        )\n",
    "        # Accessing 'content' directly\n",
    "        keywords = chat_completion.choices[0].message.content\n",
    "        logging.info(f\"Extracted Keywords: {keywords}\")\n",
    "        return keywords.strip()\n",
    "    except Exception as e:\n",
    "        logging.error(f\"Error extracting keywords: {e}\")\n",
    "        return None"
   ]
  },
  {
   "cell_type": "code",
   "execution_count": 26,
   "metadata": {},
   "outputs": [],
   "source": [
    "def interact_with_chatbot(user_input):\n",
    "    # Extract keywords and query KEGG for information\n",
    "    keywords = extract_keywords(user_input)\n",
    "    if not keywords:\n",
    "        logging.error(\"No keywords extracted.\")\n",
    "        return\n",
    "\n",
    "    info = query_kegg_for_info(keywords)\n",
    "    if not info:\n",
    "        logging.error(\"No information retrieved from KEGG.\")\n",
    "        return\n",
    "\n",
    "    try:\n",
    "        chat_completion = client.chat.completions.create(\n",
    "            model=\"gpt-4o\",\n",
    "            messages=[\n",
    "                {\"role\": \"system\", \"content\": \"You are a biochemistry assistant. Answer the user question concisely using only the given context from KEGG and cite your response. Do not give any answers that can't be directly supported with the given context from KEGG.\"},\n",
    "                {\"role\": \"user\", \"content\": f\"User Question: {user_input}. Context from KEGG: {info}\"}\n",
    "            ]\n",
    "        )\n",
    "        logging.info(chat_completion.choices[0].message.content)\n",
    "    except Exception as e:\n",
    "        logging.error(f\"Error during final interaction: {e}\")"
   ]
  },
  {
   "cell_type": "code",
   "execution_count": 22,
   "metadata": {},
   "outputs": [
    {
     "name": "stderr",
     "output_type": "stream",
     "text": [
      "INFO:httpx:HTTP Request: POST https://api.openai.com/v1/chat/completions \"HTTP/1.1 200 OK\"\n",
      "INFO:root:Extracted Keywords: - Reaction mechanism\n",
      "- Enzyme\n",
      "- Catalase\n",
      "INFO:httpx:HTTP Request: POST https://api.openai.com/v1/chat/completions \"HTTP/1.1 200 OK\"\n",
      "INFO:root:API Query URL: http://rest.kegg.jp/find/enzyme/catalase\n",
      "INFO:httpx:HTTP Request: POST https://api.openai.com/v1/chat/completions \"HTTP/1.1 200 OK\"\n",
      "INFO:root:The enzyme catalase (EC 1.11.1.6) and catalase-peroxidase (EC 1.11.1.21) facilitate the conversion of hydrogen peroxide (H₂O₂) into water (H₂O) and oxygen (O₂). The general reaction for catalase can be simplified to:\n",
      "\n",
      "\\[ 2 H₂O₂ \\rightarrow 2 H₂O + O₂ \\]\n",
      "\n",
      "Catalase-peroxidase, represented by the gene katG, also catalyzes this reaction.\n",
      "\n",
      "Reference:\n",
      "KEGG, EC 1.11.1.6 and EC 1.11.1.21\n"
     ]
    }
   ],
   "source": [
    "interact_with_chatbot(\"Show me the reaction mechanism of enzyme catalase.\")"
   ]
  },
  {
   "cell_type": "code",
   "execution_count": 27,
   "metadata": {},
   "outputs": [
    {
     "name": "stderr",
     "output_type": "stream",
     "text": [
      "INFO:httpx:HTTP Request: POST https://api.openai.com/v1/chat/completions \"HTTP/1.1 200 OK\"\n",
      "INFO:root:Extracted Keywords: - Substrates\n",
      "- Enzyme\n",
      "- Amylase\n",
      "INFO:httpx:HTTP Request: POST https://api.openai.com/v1/chat/completions \"HTTP/1.1 200 OK\"\n",
      "INFO:root:API Query URL: http://rest.kegg.jp/link/compound/enzyme:3.2.1.1\n",
      "INFO:httpx:HTTP Request: POST https://api.openai.com/v1/chat/completions \"HTTP/1.1 200 OK\"\n",
      "INFO:root:The enzyme amylase (EC 3.2.1.1) can accept the following substrates: water (cpd:C00001), glycogen (cpd:C00208), maltotriose (cpd:C00369), starch (cpd:C00721), and amylopectin (cpd:C01935).\n",
      "\n",
      "Cite:\n",
      "KEGG \n"
     ]
    }
   ],
   "source": [
    "interact_with_chatbot(\"Which all substrates can be accepted by enzyme amylase?\")"
   ]
  }
 ],
 "metadata": {
  "kernelspec": {
   "display_name": "Python 3 (ipykernel)",
   "language": "python",
   "name": "python3"
  },
  "language_info": {
   "codemirror_mode": {
    "name": "ipython",
    "version": 3
   },
   "file_extension": ".py",
   "mimetype": "text/x-python",
   "name": "python",
   "nbconvert_exporter": "python",
   "pygments_lexer": "ipython3",
   "version": "3.9.6"
  }
 },
 "nbformat": 4,
 "nbformat_minor": 4
}
